{
 "cells": [
  {
   "cell_type": "code",
   "execution_count": 1,
   "id": "338ea56c",
   "metadata": {
    "ExecuteTime": {
     "end_time": "2024-05-15T15:19:36.183838Z",
     "start_time": "2024-05-15T15:19:35.393196Z"
    }
   },
   "outputs": [],
   "source": [
    "# Import libraries\n",
    "import glob\n",
    "\n",
    "import pandas as pd\n",
    "import numpy as np\n"
   ]
  },
  {
   "cell_type": "code",
   "execution_count": 2,
   "id": "121b4fa7",
   "metadata": {
    "ExecuteTime": {
     "end_time": "2024-05-15T15:19:36.198899Z",
     "start_time": "2024-05-15T15:19:36.190614Z"
    }
   },
   "outputs": [],
   "source": [
    "# Define new column names\n",
    "positions_columns = ['COG', 'Latitude', 'Longitude', 'NavigationalStatus', 'PositionAccuracy',\n",
    "                    'RateOfTurn', 'SOG', 'TrueHeading', 'MMSI', 'ShipName', 'UTC_Time']\n",
    "\n",
    "ships_columns = ['CallSign', 'Destination', 'ETA_Day', 'ETA_Hour', 'ETA_Minute', 'ETA_Month', 'IMO', 'ShipName',\n",
    "                'ShipType', 'MMSI', 'Latitude', 'Longitude', 'UTC_Time']\n"
   ]
  },
  {
   "cell_type": "code",
   "execution_count": 3,
   "id": "a97b841c",
   "metadata": {
    "ExecuteTime": {
     "end_time": "2024-05-15T15:19:36.392840Z",
     "start_time": "2024-05-15T15:19:36.206104Z"
    }
   },
   "outputs": [],
   "source": [
    "# List all daily report files for ship position...\n",
    "joined_list_pos = glob.glob(\"data/position_day*.csv\") \n",
    "\n",
    "# ...and ship data\n",
    "joined_list_ship = glob.glob(\"data/ship_data_day*.csv\") \n",
    "\n",
    "# Create unified dataframes\n",
    "df_positions = pd.concat(map(pd.read_csv, joined_list_pos), ignore_index=True)\n",
    "df_ships_data = pd.concat(map(pd.read_csv, joined_list_ship), ignore_index=True)\n"
   ]
  },
  {
   "cell_type": "code",
   "execution_count": 4,
   "id": "04a29abf",
   "metadata": {
    "ExecuteTime": {
     "end_time": "2024-05-15T15:19:36.422418Z",
     "start_time": "2024-05-15T15:19:36.396424Z"
    }
   },
   "outputs": [],
   "source": [
    "# Rename columns\n",
    "\n",
    "df_positions.drop(\"Unnamed: 0\", axis = 1, inplace = True)\n",
    "df_ships_data.drop(\"Unnamed: 0\", axis = 1, inplace = True)\n",
    "\n",
    "df_positions = df_positions.set_axis(positions_columns, axis = 1)\n",
    "df_ships_data = df_ships_data.set_axis(ships_columns, axis = 1)\n"
   ]
  },
  {
   "cell_type": "code",
   "execution_count": 5,
   "id": "17fa292d",
   "metadata": {
    "ExecuteTime": {
     "end_time": "2024-05-15T15:19:36.446874Z",
     "start_time": "2024-05-15T15:19:36.429935Z"
    },
    "scrolled": true
   },
   "outputs": [],
   "source": [
    "# Load MMSI Country Codes into a df\n",
    "country_codes_df = pd.read_csv(\"data/MMSI Country Codes.csv\", delimiter=\";\", index_col=0, dtype=str)\n",
    "\n",
    "# And convert to dictionary\n",
    "country_codes = pd.Series(country_codes_df.Country.values, index=country_codes_df.index).to_dict()\n"
   ]
  },
  {
   "cell_type": "code",
   "execution_count": 6,
   "id": "f3a007d7",
   "metadata": {
    "ExecuteTime": {
     "end_time": "2024-05-15T15:19:36.518631Z",
     "start_time": "2024-05-15T15:19:36.460128Z"
    },
    "scrolled": true
   },
   "outputs": [],
   "source": [
    "# Get all information that can ID a ship from position and ship data messages\n",
    "positions_id = df_positions[[\"MMSI\", \"ShipName\"]].drop_duplicates().astype(str)\n",
    "ships_id = df_ships_data[[\"MMSI\", \"ShipName\", \"IMO\", \"ShipType\"]].drop_duplicates().astype(str)\n",
    "\n",
    "# Merge all that information\n",
    "all_ships = positions_id.merge(ships_id, how=\"outer\", on=[\"MMSI\", \"ShipName\"])\n",
    "\n",
    "# Get each ship's flag, which can be obtained from the first 3 digits of each MMSI\n",
    "all_ships[\"Flag\"] = all_ships[\"MMSI\"].str[:3].astype(int).map(country_codes)\n"
   ]
  },
  {
   "cell_type": "code",
   "execution_count": 7,
   "id": "4da56c62",
   "metadata": {
    "ExecuteTime": {
     "end_time": "2024-05-15T15:19:36.571616Z",
     "start_time": "2024-05-15T15:19:36.553322Z"
    },
    "scrolled": true
   },
   "outputs": [],
   "source": [
    "# Fill in ship type nulls with value 99\n",
    "all_ships[\"ShipType\"].fillna(99, inplace=True)\n",
    "\n",
    "# Select only oil tankers, cargo ships and unknown type ships\n",
    "df_tankers = all_ships.loc[((all_ships[\"ShipType\"].astype(int) >= 70) & (all_ships[\"ShipType\"].astype(int) <= 89)) | (all_ships[\"ShipType\"].astype(int) == 99)]\n"
   ]
  },
  {
   "cell_type": "code",
   "execution_count": 8,
   "id": "09c4259a",
   "metadata": {
    "ExecuteTime": {
     "end_time": "2024-05-15T15:19:36.611650Z",
     "start_time": "2024-05-15T15:19:36.576992Z"
    },
    "scrolled": true
   },
   "outputs": [],
   "source": [
    "# Filter out repeated ships\n",
    "\n",
    "df_tankers = df_tankers.drop(df_tankers[(df_tankers[\"MMSI\"] == \"374024000\") & (df_tankers[\"ShipType\"] == \"89\")].index)\n",
    "df_tankers = df_tankers.drop(df_tankers[(df_tankers[\"MMSI\"] == \"314764000\") & (df_tankers[\"IMO\"].isnull())].index)\n",
    "df_tankers = df_tankers.drop(df_tankers[(df_tankers[\"MMSI\"] == \"352002699\") & (df_tankers[\"ShipType\"] == \"89\")].index)\n",
    "df_tankers = df_tankers.drop(df_tankers[(df_tankers[\"MMSI\"] == \"352524000\") & (df_tankers[\"IMO\"].isnull())].index)\n",
    "df_tankers = df_tankers.drop(df_tankers[(df_tankers[\"MMSI\"] == \"636021195\") & (df_tankers[\"IMO\"].isnull())].index)\n",
    "df_tankers = df_tankers.drop(df_tankers[(df_tankers[\"MMSI\"] == \"240484800\") & (df_tankers[\"ShipName\"] == \"nan\")].index)\n",
    "                       "
   ]
  },
  {
   "cell_type": "code",
   "execution_count": 9,
   "id": "c6c28a9a",
   "metadata": {
    "ExecuteTime": {
     "end_time": "2024-05-15T15:19:36.633824Z",
     "start_time": "2024-05-15T15:19:36.618851Z"
    },
    "scrolled": true
   },
   "outputs": [],
   "source": [
    "# Drop columns not to be used\n",
    "\n",
    "df_ships_data.drop(['CallSign', \"Destination\", \"ETA_Day\", \"ETA_Hour\", \"ETA_Minute\", \"ETA_Month\", \"ShipType\"], axis=1, inplace=True)\n",
    "df_positions.drop(['COG', \"NavigationalStatus\", \"PositionAccuracy\", \"RateOfTurn\", \"SOG\", \"TrueHeading\"], axis=1, inplace=True)\n"
   ]
  },
  {
   "cell_type": "code",
   "execution_count": 10,
   "id": "3486bb29",
   "metadata": {
    "ExecuteTime": {
     "end_time": "2024-05-15T15:19:36.665566Z",
     "start_time": "2024-05-15T15:19:36.642803Z"
    },
    "scrolled": true
   },
   "outputs": [],
   "source": [
    "# Transform Ship Types so that they are readable\n",
    "\n",
    "conditions = [\n",
    "    (df_tankers[\"ShipType\"].astype(int) == 99),\n",
    "    ((df_tankers[\"ShipType\"].astype(int) >= 80) & (df_tankers[\"ShipType\"].astype(int) < 90)),\n",
    "    ((df_tankers[\"ShipType\"].astype(int) >= 70) & (df_tankers[\"ShipType\"].astype(int) < 80))\n",
    "]\n",
    "\n",
    "values = [99,80, 70]\n",
    "\n",
    "df_tankers['ShipType'] = np.select(conditions, values)\n",
    "df_tankers['ShipType'] = np.select([(df_tankers[\"ShipType\"] == 99), \n",
    "                                   (df_tankers[\"ShipType\"] >= 80), \n",
    "                                   (df_tankers[\"ShipType\"] >= 70)], [\"Unknown\", \"Tanker\", \"Cargo Ship\"])\n",
    "\n"
   ]
  },
  {
   "cell_type": "code",
   "execution_count": 11,
   "id": "209a3e8a",
   "metadata": {
    "ExecuteTime": {
     "end_time": "2024-05-15T15:19:36.789466Z",
     "start_time": "2024-05-15T15:19:36.676164Z"
    }
   },
   "outputs": [],
   "source": [
    "# Homogenise MMSIs to string type\n",
    "df_positions = df_positions.astype({\"MMSI\" : str})\n",
    "df_ships_data = df_ships_data.astype({\"MMSI\" : str})\n",
    "\n",
    "# Select only those ships that are tankers, cargo ships or unknown\n",
    "clean_positions = df_positions[df_positions['MMSI'].astype(str).isin(df_tankers[\"MMSI\"].unique())]\n",
    "clean_ship_data = df_ships_data[df_ships_data['MMSI'].astype(str).isin(df_tankers[\"MMSI\"].unique())]\n"
   ]
  },
  {
   "cell_type": "code",
   "execution_count": 12,
   "id": "933a1ec6",
   "metadata": {
    "ExecuteTime": {
     "end_time": "2024-05-15T15:19:36.862382Z",
     "start_time": "2024-05-15T15:19:36.799237Z"
    }
   },
   "outputs": [],
   "source": [
    "# Merge to get all available information about all ships\n",
    "\n",
    "only_flag_mmsi = df_tankers[[\"MMSI\", \"Flag\", \"ShipType\"]]\n",
    "\n",
    "clean_positions = pd.merge(clean_positions, df_tankers, on=['MMSI', 'ShipName'], how='left')\n",
    "clean_ship_data = pd.merge(clean_ship_data, only_flag_mmsi, on=['MMSI'], how='left')\n",
    "\n",
    "# Create a single dataframe\n",
    "all_messages = pd.concat([clean_positions, clean_ship_data], axis=0)\n"
   ]
  },
  {
   "cell_type": "code",
   "execution_count": 13,
   "id": "c014db2d",
   "metadata": {
    "ExecuteTime": {
     "end_time": "2024-05-15T15:19:37.237209Z",
     "start_time": "2024-05-15T15:19:36.875500Z"
    }
   },
   "outputs": [],
   "source": [
    "# Save as CSV file\n",
    "\n",
    "all_messages.to_csv(\"./Data/All_Messages.csv\", index=False)"
   ]
  },
  {
   "cell_type": "code",
   "execution_count": 14,
   "id": "b15bb459",
   "metadata": {
    "ExecuteTime": {
     "end_time": "2024-05-15T15:19:37.511457Z",
     "start_time": "2024-05-15T15:19:37.243894Z"
    },
    "scrolled": true
   },
   "outputs": [],
   "source": [
    "# Convert message timestamp to datetime object\n",
    "all_messages[\"start\"] = pd.to_datetime(all_messages[\"UTC_Time\"].str[:-4], format='%Y-%m-%d %H:%M:%S.%f %z')\n",
    "all_messages.drop(\"UTC_Time\", axis=1, inplace=True)\n"
   ]
  },
  {
   "cell_type": "code",
   "execution_count": 15,
   "id": "305b0e73",
   "metadata": {
    "ExecuteTime": {
     "end_time": "2024-05-15T15:19:41.042416Z",
     "start_time": "2024-05-15T15:19:37.513650Z"
    },
    "scrolled": true
   },
   "outputs": [],
   "source": [
    "# Create a function to calculate the end of the Popup showing\n",
    "def end_timestamp(df):\n",
    "    output = []\n",
    "    \n",
    "    # Loop through all unique ship license plates\n",
    "    for i in df[\"MMSI\"].unique():\n",
    "        subset = df.loc[df[\"MMSI\"] == i]\n",
    "        \n",
    "        # Prepare the subset dataframe by sorting values by timestamp, creating the end column and reseting the \n",
    "        # index\n",
    "        subset = subset.sort_values(by = \"start\", ascending=True)\n",
    "        subset[\"end\"] = 0\n",
    "        subset.reset_index(inplace=True)\n",
    "        \n",
    "        # Iterate all rows in the subset\n",
    "        for i in range(len(subset)):           \n",
    "        \n",
    "            # If the row is the last instance of the ship seen, delete the popup after 1 day\n",
    "            if i == len(subset) - 1:\n",
    "                subset.loc[i, \"end\"] = subset.loc[i, \"start\"] + pd.Timedelta(days = 1)\n",
    "            # If the row is the not last instance of the ship seen, delete the popup when a new message is available\n",
    "            else:\n",
    "                subset.loc[i, \"end\"] = subset.loc[i + 1, \"start\"]\n",
    "                \n",
    "        output.append(subset)\n",
    "\n",
    "    # Merge the results and return\n",
    "    result = pd.concat(output) \n",
    "    result.drop(\"index\", axis=1, inplace=True) \n",
    "    return result\n",
    "     \n",
    "# Apply function and add to general dataset\n",
    "end_time_df = end_timestamp(all_messages[[\"MMSI\", \"start\"]])\n",
    "all_messages = pd.merge(all_messages, end_time_df, on=['MMSI', 'start'], how='left')\n"
   ]
  },
  {
   "cell_type": "code",
   "execution_count": 17,
   "id": "b9c45a78",
   "metadata": {
    "ExecuteTime": {
     "end_time": "2024-05-15T15:19:41.164571Z",
     "start_time": "2024-05-15T15:19:41.075271Z"
    },
    "scrolled": true
   },
   "outputs": [],
   "source": [
    "# Prepare the GeoJSON file with the fields required\n",
    "\n",
    "all_messages[\"type\"] = \"Point\"\n",
    "\n",
    "all_messages[\"coordinates\"] = [[lat, lon] for lat, lon in zip(all_messages[\"Longitude\"], all_messages[\"Latitude\"])]\n",
    "all_messages.drop([\"Latitude\", \"Longitude\"], axis=1, inplace=True)\n"
   ]
  },
  {
   "cell_type": "code",
   "execution_count": 20,
   "id": "c93df740",
   "metadata": {
    "ExecuteTime": {
     "end_time": "2024-05-15T15:19:41.544702Z",
     "start_time": "2024-05-15T15:19:41.268727Z"
    }
   },
   "outputs": [],
   "source": [
    "all_messages.to_json(\"./Data/All_Messages.json\", orient=\"records\")"
   ]
  }
 ],
 "metadata": {
  "kernelspec": {
   "display_name": "Python 3 (ipykernel)",
   "language": "python",
   "name": "python3"
  },
  "language_info": {
   "codemirror_mode": {
    "name": "ipython",
    "version": 3
   },
   "file_extension": ".py",
   "mimetype": "text/x-python",
   "name": "python",
   "nbconvert_exporter": "python",
   "pygments_lexer": "ipython3",
   "version": "3.9.7"
  }
 },
 "nbformat": 4,
 "nbformat_minor": 5
}
